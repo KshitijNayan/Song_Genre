{
 "cells": [
  {
   "cell_type": "markdown",
   "metadata": {},
   "source": [
    "## **Classifying songs to genre using keywords**"
   ]
  },
  {
   "cell_type": "markdown",
   "metadata": {},
   "source": [
    "##### Importing all necessary packages"
   ]
  },
  {
   "cell_type": "code",
   "execution_count": 522,
   "metadata": {},
   "outputs": [],
   "source": [
    "import numpy as np\n",
    "import pandas as pd\n",
    "import matplotlib.pyplot as plt\n",
    "from mpl_toolkits.mplot3d import Axes3D\n",
    "import string\n",
    "import random\n",
    "import time\n",
    "import sys\n",
    "\n",
    "# for displaying charts in notebook\n",
    "%matplotlib inline \n"
   ]
  },
  {
   "cell_type": "markdown",
   "metadata": {},
   "source": [
    "##### Importing .csv file"
   ]
  },
  {
   "cell_type": "code",
   "execution_count": 523,
   "metadata": {},
   "outputs": [
    {
     "data": {
      "text/html": [
       "<div>\n",
       "<style scoped>\n",
       "    .dataframe tbody tr th:only-of-type {\n",
       "        vertical-align: middle;\n",
       "    }\n",
       "\n",
       "    .dataframe tbody tr th {\n",
       "        vertical-align: top;\n",
       "    }\n",
       "\n",
       "    .dataframe thead th {\n",
       "        text-align: right;\n",
       "    }\n",
       "</style>\n",
       "<table border=\"1\" class=\"dataframe\">\n",
       "  <thead>\n",
       "    <tr style=\"text-align: right;\">\n",
       "      <th></th>\n",
       "      <th>song_id</th>\n",
       "      <th>keyword_1</th>\n",
       "      <th>keyword_2</th>\n",
       "      <th>keyword_3</th>\n",
       "      <th>genre</th>\n",
       "    </tr>\n",
       "  </thead>\n",
       "  <tbody>\n",
       "    <tr>\n",
       "      <th>0</th>\n",
       "      <td>74</td>\n",
       "      <td>guitar</td>\n",
       "      <td>happy</td>\n",
       "      <td>distorted</td>\n",
       "      <td>rock</td>\n",
       "    </tr>\n",
       "    <tr>\n",
       "      <th>1</th>\n",
       "      <td>103</td>\n",
       "      <td>brass</td>\n",
       "      <td>energetic</td>\n",
       "      <td>melodic</td>\n",
       "      <td>classical</td>\n",
       "    </tr>\n",
       "    <tr>\n",
       "      <th>2</th>\n",
       "      <td>201</td>\n",
       "      <td>banjo</td>\n",
       "      <td>happy</td>\n",
       "      <td>acoustic</td>\n",
       "      <td>country</td>\n",
       "    </tr>\n",
       "    <tr>\n",
       "      <th>3</th>\n",
       "      <td>194</td>\n",
       "      <td>synth</td>\n",
       "      <td>energetic</td>\n",
       "      <td>heavy</td>\n",
       "      <td>hip-hop</td>\n",
       "    </tr>\n",
       "    <tr>\n",
       "      <th>4</th>\n",
       "      <td>184</td>\n",
       "      <td>synth</td>\n",
       "      <td>energetic</td>\n",
       "      <td>slow</td>\n",
       "      <td>hip-hop</td>\n",
       "    </tr>\n",
       "    <tr>\n",
       "      <th>...</th>\n",
       "      <td>...</td>\n",
       "      <td>...</td>\n",
       "      <td>...</td>\n",
       "      <td>...</td>\n",
       "      <td>...</td>\n",
       "    </tr>\n",
       "    <tr>\n",
       "      <th>142</th>\n",
       "      <td>195</td>\n",
       "      <td>synth</td>\n",
       "      <td>angry</td>\n",
       "      <td>melodic</td>\n",
       "      <td>hip-hop</td>\n",
       "    </tr>\n",
       "    <tr>\n",
       "      <th>143</th>\n",
       "      <td>7</td>\n",
       "      <td>guitar</td>\n",
       "      <td>energetic</td>\n",
       "      <td>fast</td>\n",
       "      <td>pop</td>\n",
       "    </tr>\n",
       "    <tr>\n",
       "      <th>144</th>\n",
       "      <td>14</td>\n",
       "      <td>guitar</td>\n",
       "      <td>happy</td>\n",
       "      <td>rhythmic</td>\n",
       "      <td>pop</td>\n",
       "    </tr>\n",
       "    <tr>\n",
       "      <th>145</th>\n",
       "      <td>36</td>\n",
       "      <td>synth</td>\n",
       "      <td>mellow</td>\n",
       "      <td>danceable</td>\n",
       "      <td>pop</td>\n",
       "    </tr>\n",
       "    <tr>\n",
       "      <th>146</th>\n",
       "      <td>29</td>\n",
       "      <td>synth</td>\n",
       "      <td>emotional</td>\n",
       "      <td>slow</td>\n",
       "      <td>pop</td>\n",
       "    </tr>\n",
       "  </tbody>\n",
       "</table>\n",
       "<p>147 rows × 5 columns</p>\n",
       "</div>"
      ],
      "text/plain": [
       "     song_id keyword_1  keyword_2  keyword_3      genre\n",
       "0         74    guitar      happy  distorted       rock\n",
       "1        103     brass  energetic    melodic  classical\n",
       "2        201     banjo      happy   acoustic    country\n",
       "3        194     synth  energetic      heavy    hip-hop\n",
       "4        184     synth  energetic       slow    hip-hop\n",
       "..       ...       ...        ...        ...        ...\n",
       "142      195     synth      angry    melodic    hip-hop\n",
       "143        7    guitar  energetic       fast        pop\n",
       "144       14    guitar      happy   rhythmic        pop\n",
       "145       36     synth     mellow  danceable        pop\n",
       "146       29     synth  emotional       slow        pop\n",
       "\n",
       "[147 rows x 5 columns]"
      ]
     },
     "execution_count": 523,
     "metadata": {},
     "output_type": "execute_result"
    }
   ],
   "source": [
    "data = pd.read_csv(r\"TASK2_dataset.csv\")\n",
    "data.drop_duplicates(inplace=True)\n",
    "data"
   ]
  },
  {
   "cell_type": "markdown",
   "metadata": {},
   "source": [
    "#### Converting dataset to list and embedding them for vectorization"
   ]
  },
  {
   "cell_type": "code",
   "execution_count": 524,
   "metadata": {},
   "outputs": [],
   "source": [
    "xp=list(data['keyword_1'])\n",
    "yp=list(data['keyword_2'])\n",
    "zp=list(data['keyword_3'])\n",
    "kp=list(data['genre'])"
   ]
  },
  {
   "cell_type": "code",
   "execution_count": 525,
   "metadata": {},
   "outputs": [],
   "source": [
    "\n",
    "k4=[0 for i in range(len(kp))]\n",
    "kl=[99 for i in range(len(kp))]\n",
    "for i in range(len(kp)):\n",
    "        if(kp[i]=='rock'):\n",
    "            k4[0]+=1\n",
    "            kp[i]=0\n",
    "            kl[i]=0\n",
    "        elif(kp[i]=='classical'):\n",
    "            k4[1]+=1\n",
    "            kp[i]=1\n",
    "            kl[i]=1\n",
    "        elif(kp[i]=='country'):\n",
    "            k4[2]+=1\n",
    "            kp[i]=2\n",
    "            kl[i]=2\n",
    "        elif(kp[i]=='hip-hop'):\n",
    "            k4[3]+=1\n",
    "            kp[i]=3\n",
    "            kl[i]=3\n",
    "        elif(kp[i]=='pop'):\n",
    "            k4[4]+=1\n",
    "            kp[i]=4\n",
    "            kl[i]=4\n",
    "\n",
    "ct1=[[0,0,0,0,0,0]for j in range(6)]\n",
    "ct2=[[0,0,0,0,0,0]for j in range(9)]\n",
    "ct3=[[0,0,0,0,0,0]for j in range(10)]\n",
    "ct4=[0,0,0,0,0]\n",
    "\n",
    "def wordEmbed(p,q,r):\n",
    "    \n",
    "    p_map = {'guitar': 0, 'brass': 1, 'banjo': 2, 'synth': 3, 'violin': 4, 'piano': 5}\n",
    "    q_map = {'happy': 0, 'energetic': 1, 'calm': 2, 'mellow': 3, 'emotional': 4, 'nostalgic': 5, 'angry': 6, 'sad': 7, 'upbeat': 8}\n",
    "    r_map = {'distorted': 0, 'melodic': 1, 'acoustic': 2, 'heavy': 3, 'slow': 4, 'upbeat': 5, 'rhythmic': 6, 'twangy': 7, 'fast': 8, 'danceable': 9}\n",
    "\n",
    "    # Iterate through all items in the list\n",
    "    for i in range(len(p)):\n",
    "        if p[i] in p_map:\n",
    "            idx = p_map[p[i]]\n",
    "            ct1[idx][0] += 1\n",
    "            ct1[idx][kl[i] + 1] += 1\n",
    "            p[i] = idx  # Convert to int\n",
    "\n",
    "        if q[i] in q_map:\n",
    "            idx = q_map[q[i]]\n",
    "            ct2[idx][0] += 1\n",
    "            ct2[idx][kl[i] + 1] += 1\n",
    "            q[i] = idx  # Convert to int\n",
    "\n",
    "        if r[i] in r_map:\n",
    "            idx = r_map[r[i]]\n",
    "            ct3[idx][0] += 1\n",
    "            ct3[idx][kl[i] + 1] += 1\n",
    "            r[i] = idx  # Convert to int\n",
    "\n",
    "    return ct1, ct2, ct3\n",
    "\n",
    "k1, k2, k3= wordEmbed(xp,yp,zp)\n",
    "k_container=[k1,k2,k3,k4]"
   ]
  },
  {
   "cell_type": "code",
   "execution_count": 526,
   "metadata": {},
   "outputs": [],
   "source": [
    "labels=[[0.0 for j in range(6)],[0.0 for j in range(9)],[0.0 for j in range(10)]]\n",
    "for counter_embed in range(3):\n",
    "    if counter_embed==0:\n",
    "        range_embed=6\n",
    "    elif counter_embed==1:\n",
    "        range_embed=9\n",
    "    elif counter_embed==2:\n",
    "        range_embed=10\n",
    "    for i in range(range_embed):\n",
    "        for j in range(1,6):\n",
    "            labels[counter_embed][i]+=(k_container[counter_embed][i][j]/k4[j-1])"
   ]
  },
  {
   "cell_type": "markdown",
   "metadata": {},
   "source": [
    "#### Vectorizing the dataset after embedding it"
   ]
  },
  {
   "cell_type": "code",
   "execution_count": 527,
   "metadata": {},
   "outputs": [],
   "source": [
    "xl=[99 for i in range(len(xp))]\n",
    "yl=[99 for i in range(len(xl))]\n",
    "zl=[99 for i in range(len(xl))]\n",
    "#kl=[99 for i in range(len(xl))]"
   ]
  },
  {
   "cell_type": "code",
   "execution_count": 528,
   "metadata": {},
   "outputs": [],
   "source": [
    "for counter_embed in range(3):\n",
    "    if counter_embed==0:\n",
    "        range_embed=6\n",
    "    elif counter_embed==1:\n",
    "        range_embed=9\n",
    "    elif counter_embed==2:\n",
    "        range_embed=10\n",
    "    for i in range(len(kp)):\n",
    "        for j in range(range_embed):\n",
    "            if(xp[i]==j):\n",
    "                xl[i]=labels[0][j]\n",
    "            if(yp[i]==j):\n",
    "                yl[i]=labels[1][j]\n",
    "            if(zp[i]==j):\n",
    "                zl[i]=labels[2][j]"
   ]
  },
  {
   "cell_type": "markdown",
   "metadata": {},
   "source": [
    "##### Storing the embedded data as a .csv file for refrence"
   ]
  },
  {
   "cell_type": "code",
   "execution_count": 529,
   "metadata": {},
   "outputs": [],
   "source": [
    "df = pd.DataFrame({\"xl\": xl, \"yl\": yl, \"zl\": zl, \"kl\": kl})\n",
    "df.to_csv(\"ConvertedData2.csv\", index=False)"
   ]
  },
  {
   "cell_type": "markdown",
   "metadata": {},
   "source": [
    "##### Taking 5 random data points and initializing all arrays and variables"
   ]
  },
  {
   "cell_type": "code",
   "execution_count": 530,
   "metadata": {},
   "outputs": [],
   "source": [
    "rr = df.sample(n=5, random_state=69)[[\"xl\", \"yl\", \"zl\"]].to_numpy()\n",
    "x = [rr[i][0] for i in range(5)]\n",
    "y = [rr[i][1] for i in range(5)]\n",
    "z = [rr[i][2] for i in range(5)]"
   ]
  },
  {
   "cell_type": "code",
   "execution_count": 531,
   "metadata": {},
   "outputs": [],
   "source": [
    "d0 = np.zeros(len(xl))  \n",
    "d1 = np.zeros(len(xl))\n",
    "d2 = np.zeros(len(xl))\n",
    "d3 = np.zeros(len(xl))\n",
    "d4 = np.zeros(len(xl))\n",
    "dis = [d0,d1,d2,d3,d4]\n",
    "ld = np.zeros(len(xl))\n",
    "colors = [\"*\" for i in range(len(xl))]\n",
    "count = np.zeros(5)\n"
   ]
  },
  {
   "cell_type": "markdown",
   "metadata": {},
   "source": [
    "##### Funtions for calculating and updating the five reference points"
   ]
  },
  {
   "cell_type": "code",
   "execution_count": 532,
   "metadata": {},
   "outputs": [],
   "source": [
    "def Dmean():\n",
    "    for j in range(5):\n",
    "        for i in range(len(xl)):\n",
    "            if(ld[i]==j):\n",
    "                x[j]+=xl[i]\n",
    "                y[j]+=yl[i]\n",
    "                z[j]+=zl[i]\n",
    "                count[j]+=1\n",
    "\n",
    "    for i in range(5):\n",
    "        if(count[i]==0):\n",
    "            count[i]+=1\n",
    "        x[i]/=count[i]\n",
    "        y[i]/=count[i]\n",
    "        z[i]/=count[i]\n",
    "        count[i]=0"
   ]
  },
  {
   "cell_type": "code",
   "execution_count": 533,
   "metadata": {},
   "outputs": [],
   "source": [
    "def leastDplotter():\n",
    "    for j in range(5):\n",
    "        for i in range(len(xl)):\n",
    "            dis[j][i]=np.cbrt(pow(xl[i]-x[j],2)+pow(yl[i]-y[j],2)+pow(zl[i]-z[j],2))\n",
    "\n",
    "    color_coding=['yellow','red','blue','green','cyan']\n",
    "    for counter_dist in range(5):\n",
    "        for i in range(len(xl)):\n",
    "            if(np.minimum(np.minimum(np.minimum(np.minimum(d0[i],d1[i]),d2[i]),d3[i]),d4[i])==dis[counter_dist][i]):\n",
    "                ld[i]=counter_dist\n",
    "                colors[i]=color_coding[counter_dist]\n"
   ]
  },
  {
   "cell_type": "markdown",
   "metadata": {},
   "source": [
    "#### Function for plotting the vectorized points in 3d space"
   ]
  },
  {
   "cell_type": "code",
   "execution_count": 534,
   "metadata": {},
   "outputs": [],
   "source": [
    "def plotter():\n",
    "    fig = plt.figure()\n",
    "    ax = fig.add_subplot(111, projection='3d')\n",
    "    scatter = ax.scatter(xl, yl, zl, c=colors, cmap='coolwarm')\n",
    "    fig.colorbar(scatter)\n",
    "\n",
    "    fig.set_facecolor('black')  # Sets figure background\n",
    "    ax.set_facecolor('black')   # Sets subplot background\n",
    "\n",
    "    # Setting axis label colors to white\n",
    "    ax.xaxis.label.set_color('white')\n",
    "    ax.yaxis.label.set_color('white')\n",
    "    ax.zaxis.label.set_color('white')\n",
    "\n",
    "    #Labelling axes\n",
    "    ax.set_xlabel('X Axis')\n",
    "    ax.set_ylabel('Y Axis')\n",
    "    ax.set_zlabel('Z Axis')\n",
    "\n",
    "    # Setting tick labels to white for visibility\n",
    "    ax.tick_params(colors='white')\n",
    "\n",
    "    plt.show()"
   ]
  },
  {
   "cell_type": "markdown",
   "metadata": {},
   "source": [
    "#### Function for assinging the clusters to most appropriate genre"
   ]
  },
  {
   "cell_type": "code",
   "execution_count": 535,
   "metadata": {},
   "outputs": [],
   "source": [
    "def confusion_matrix(yT, yP):\n",
    "    #Computes a confusion matrix (dictionary format)\n",
    "    lp = list(zip(yT, yP))      #labeled pairs\n",
    "    con = {}\n",
    "\n",
    "    for tl, pl in lp:\n",
    "        if (tl, pl) in con:\n",
    "            con[(tl, pl)] += 1\n",
    "        else:\n",
    "            con[(tl, pl)] = 1\n",
    "\n",
    "    return con\n",
    "\n",
    "def gmapping(confusion_dict):\n",
    "    #Finds the best label mapping using a greedy approach\n",
    "    mapping = {}\n",
    "    \n",
    "    # Count occurrences for each predicted label\n",
    "    ttp = {}    #true to predicted\n",
    "    for (tl, pl), count in confusion_dict.items():\n",
    "        if tl not in ttp:\n",
    "            ttp[tl] = []\n",
    "        ttp[tl].append((pl, count))\n",
    "    \n",
    "    # Sort by highest count to get the best match\n",
    "    for tl in ttp:\n",
    "        ttp[tl].sort(key=lambda x: x[1], reverse=True)\n",
    "    \n",
    "    usedp = set()\n",
    "    for tl, pcount in sorted(ttp.items(), key=lambda x: -max([c for _, c in x[1]])):\n",
    "        for pl, _ in pcount:\n",
    "            if pl not in usedp:\n",
    "                mapping[pl] = tl\n",
    "                usedp.add(pl)\n",
    "                break  # Move to next true label\n",
    "    \n",
    "    return mapping\n"
   ]
  },
  {
   "cell_type": "code",
   "execution_count": 536,
   "metadata": {},
   "outputs": [],
   "source": [
    "def align_clusters(yT, yP):\n",
    "    \"\"\"Aligns predicted clusters with true clusters using confusion matrix.\"\"\"\n",
    "    cD = confusion_matrix(yT, yP)\n",
    "    mapping = gmapping(cD)\n",
    "\n",
    "    # Reassigning labels based on mapping\n",
    "    yReal = np.array([mapping[label] if label in mapping else label for label in yP])\n",
    "\n",
    "    return yReal, mapping"
   ]
  },
  {
   "cell_type": "markdown",
   "metadata": {},
   "source": [
    "#### Function for checking accuracy"
   ]
  },
  {
   "cell_type": "code",
   "execution_count": 537,
   "metadata": {},
   "outputs": [],
   "source": [
    "def ptester(ldd):\n",
    "    percent=0.0\n",
    "    for i in range(len(xl)):\n",
    "        if(ldd[i]==kl[i]):\n",
    "            percent+=1\n",
    "    percent*=100/len(xl)\n",
    "    return percent"
   ]
  },
  {
   "cell_type": "markdown",
   "metadata": {},
   "source": [
    "**Enter keyword1 then press enter followed be keyword2 then enter and at last keyword3, the respective genre will be displayed**"
   ]
  },
  {
   "cell_type": "markdown",
   "metadata": {},
   "source": [
    "## Training and implementation"
   ]
  },
  {
   "cell_type": "code",
   "execution_count": 538,
   "metadata": {},
   "outputs": [
    {
     "name": "stdout",
     "output_type": "stream",
     "text": [
      "Accuracy =  59.183673469387756\n"
     ]
    },
    {
     "name": "stderr",
     "output_type": "stream",
     "text": [
      "C:\\Users\\kshit\\AppData\\Local\\Temp\\ipykernel_15368\\1047548297.py:4: UserWarning: No data for colormapping provided via 'c'. Parameters 'cmap' will be ignored\n",
      "  scatter = ax.scatter(xl, yl, zl, c=colors, cmap='coolwarm')\n"
     ]
    },
    {
     "data": {
      "image/png": "[encoded data removed]",
      "text/plain": [
       "<Figure size 640x480 with 2 Axes>"
      ]
     },
     "metadata": {},
     "output_type": "display_data"
    },
    {
     "name": "stdout",
     "output_type": "stream",
     "text": [
      "Yellow for  hip-hop\n",
      "Red for  pop\n",
      "Blue for  rock\n",
      "Green for  classical\n",
      "Cyan for  country\n",
      "\n",
      "\n",
      "It's a rock\n"
     ]
    }
   ],
   "source": [
    "startTime=time.time()\n",
    "while time.time()-startTime<3:\n",
    "    leastDplotter()\n",
    "    Dmean()\n",
    "\n",
    "\n",
    "y_pred_aligned, mapping = align_clusters(kl, ld)\n",
    "print(\"Accuracy = \",ptester(y_pred_aligned))\n",
    "\n",
    "genre=[\"rock\", \"classical\", \"country\", \"hip-hop\", \"pop\"]\n",
    "plotter() #for plotting data points as group\n",
    "print(\"Yellow for \",genre[mapping[0]])\n",
    "print(\"Red for \",genre[mapping[1]])\n",
    "print(\"Blue for \",genre[mapping[2]])\n",
    "print(\"Green for \",genre[mapping[3]])\n",
    "print(\"Cyan for \",genre[mapping[4]])\n",
    "\n",
    "#For input of all three keywords, applying BoW and checking which genre it belongs\n",
    "d=np.zeros(5)\n",
    "xqq=[0]\n",
    "yqq=[0]\n",
    "zqq=[0]\n",
    "\n",
    "xqq[0]=input()\n",
    "yqq[0]=input()\n",
    "zqq[0]=input()\n",
    "\n",
    "xq,yq,zq=wordEmbed(xqq,yqq,zqq)\n",
    "\n",
    "xq[0]=labels[0][xqq[0]]\n",
    "yq[0]=labels[1][yqq[0]]\n",
    "zq[0]=labels[2][zqq[0]]\n",
    "\n",
    "if xq[0]==-1 or yq[0]==-1 or zq[0]==-1:\n",
    "    print(\"No or wrong input\")\n",
    "    sys.exit(0)\n",
    "for i in range(5):\n",
    "    d[i]=np.cbrt(pow(xq[0]-x[i],2)+pow(yq[0]-y[i],2)+pow(zq[0]-z[i],2))\n",
    "for i in range(5):\n",
    "    if(np.minimum(np.minimum(np.minimum(np.minimum(d[0],d[1]),d[2]),d[3]),d[4])==d[i]):\n",
    "        result=mapping[i]\n",
    "\n",
    "print(\"\\n\")\n",
    "if(result==0):\n",
    "    print(\"It's a rock\")\n",
    "elif(result==1):\n",
    "    print(\"It's a classical\")\n",
    "elif(result==2):\n",
    "    print(\"It's a country\")\n",
    "elif(result==3):\n",
    "    print(\"It's a hip-hop\")\n",
    "elif(result==4):\n",
    "    print(\"It's a pop\")"
   ]
  }
 ],
 "metadata": {
  "kernelspec": {
   "display_name": "Python 3",
   "language": "python",
   "name": "python3"
  },
  "language_info": {
   "codemirror_mode": {
    "name": "ipython",
    "version": 3
   },
   "file_extension": ".py",
   "mimetype": "text/x-python",
   "name": "python",
   "nbconvert_exporter": "python",
   "pygments_lexer": "ipython3",
   "version": "3.13.1"
  }
 },
 "nbformat": 4,
 "nbformat_minor": 2
}
